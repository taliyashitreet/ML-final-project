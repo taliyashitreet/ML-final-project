{
 "cells": [
  {
   "cell_type": "code",
   "execution_count": 319,
   "metadata": {},
   "outputs": [],
   "source": [
    "import pandas as pd\n",
    "import numpy as np  \n",
    "import matplotlib.pyplot as plt\n",
    "import seaborn as sns"
   ]
  },
  {
   "cell_type": "markdown",
   "metadata": {},
   "source": [
    "# Audi cars price regressor"
   ]
  },
  {
   "cell_type": "code",
   "execution_count": 320,
   "metadata": {},
   "outputs": [],
   "source": [
    "#uploding Audu data  \n",
    "audi=pd.read_csv('./audi.csv') "
   ]
  },
  {
   "cell_type": "code",
   "execution_count": 321,
   "metadata": {},
   "outputs": [
    {
     "data": {
      "text/html": [
       "<div>\n",
       "<style scoped>\n",
       "    .dataframe tbody tr th:only-of-type {\n",
       "        vertical-align: middle;\n",
       "    }\n",
       "\n",
       "    .dataframe tbody tr th {\n",
       "        vertical-align: top;\n",
       "    }\n",
       "\n",
       "    .dataframe thead th {\n",
       "        text-align: right;\n",
       "    }\n",
       "</style>\n",
       "<table border=\"1\" class=\"dataframe\">\n",
       "  <thead>\n",
       "    <tr style=\"text-align: right;\">\n",
       "      <th></th>\n",
       "      <th>model</th>\n",
       "      <th>year</th>\n",
       "      <th>price</th>\n",
       "      <th>transmission</th>\n",
       "      <th>mileage</th>\n",
       "      <th>fuelType</th>\n",
       "      <th>tax</th>\n",
       "      <th>mpg</th>\n",
       "      <th>engineSize</th>\n",
       "    </tr>\n",
       "  </thead>\n",
       "  <tbody>\n",
       "    <tr>\n",
       "      <th>0</th>\n",
       "      <td>A1</td>\n",
       "      <td>2017</td>\n",
       "      <td>12500</td>\n",
       "      <td>Manual</td>\n",
       "      <td>15735</td>\n",
       "      <td>Petrol</td>\n",
       "      <td>150</td>\n",
       "      <td>55.4</td>\n",
       "      <td>1.4</td>\n",
       "    </tr>\n",
       "    <tr>\n",
       "      <th>1</th>\n",
       "      <td>A6</td>\n",
       "      <td>2016</td>\n",
       "      <td>16500</td>\n",
       "      <td>Automatic</td>\n",
       "      <td>36203</td>\n",
       "      <td>Diesel</td>\n",
       "      <td>20</td>\n",
       "      <td>64.2</td>\n",
       "      <td>2.0</td>\n",
       "    </tr>\n",
       "    <tr>\n",
       "      <th>2</th>\n",
       "      <td>A1</td>\n",
       "      <td>2016</td>\n",
       "      <td>11000</td>\n",
       "      <td>Manual</td>\n",
       "      <td>29946</td>\n",
       "      <td>Petrol</td>\n",
       "      <td>30</td>\n",
       "      <td>55.4</td>\n",
       "      <td>1.4</td>\n",
       "    </tr>\n",
       "    <tr>\n",
       "      <th>3</th>\n",
       "      <td>A4</td>\n",
       "      <td>2017</td>\n",
       "      <td>16800</td>\n",
       "      <td>Automatic</td>\n",
       "      <td>25952</td>\n",
       "      <td>Diesel</td>\n",
       "      <td>145</td>\n",
       "      <td>67.3</td>\n",
       "      <td>2.0</td>\n",
       "    </tr>\n",
       "    <tr>\n",
       "      <th>4</th>\n",
       "      <td>A3</td>\n",
       "      <td>2019</td>\n",
       "      <td>17300</td>\n",
       "      <td>Manual</td>\n",
       "      <td>1998</td>\n",
       "      <td>Petrol</td>\n",
       "      <td>145</td>\n",
       "      <td>49.6</td>\n",
       "      <td>1.0</td>\n",
       "    </tr>\n",
       "    <tr>\n",
       "      <th>5</th>\n",
       "      <td>A1</td>\n",
       "      <td>2016</td>\n",
       "      <td>13900</td>\n",
       "      <td>Automatic</td>\n",
       "      <td>32260</td>\n",
       "      <td>Petrol</td>\n",
       "      <td>30</td>\n",
       "      <td>58.9</td>\n",
       "      <td>1.4</td>\n",
       "    </tr>\n",
       "    <tr>\n",
       "      <th>6</th>\n",
       "      <td>A6</td>\n",
       "      <td>2016</td>\n",
       "      <td>13250</td>\n",
       "      <td>Automatic</td>\n",
       "      <td>76788</td>\n",
       "      <td>Diesel</td>\n",
       "      <td>30</td>\n",
       "      <td>61.4</td>\n",
       "      <td>2.0</td>\n",
       "    </tr>\n",
       "    <tr>\n",
       "      <th>7</th>\n",
       "      <td>A4</td>\n",
       "      <td>2016</td>\n",
       "      <td>11750</td>\n",
       "      <td>Manual</td>\n",
       "      <td>75185</td>\n",
       "      <td>Diesel</td>\n",
       "      <td>20</td>\n",
       "      <td>70.6</td>\n",
       "      <td>2.0</td>\n",
       "    </tr>\n",
       "    <tr>\n",
       "      <th>8</th>\n",
       "      <td>A3</td>\n",
       "      <td>2015</td>\n",
       "      <td>10200</td>\n",
       "      <td>Manual</td>\n",
       "      <td>46112</td>\n",
       "      <td>Petrol</td>\n",
       "      <td>20</td>\n",
       "      <td>60.1</td>\n",
       "      <td>1.4</td>\n",
       "    </tr>\n",
       "    <tr>\n",
       "      <th>9</th>\n",
       "      <td>A1</td>\n",
       "      <td>2016</td>\n",
       "      <td>12000</td>\n",
       "      <td>Manual</td>\n",
       "      <td>22451</td>\n",
       "      <td>Petrol</td>\n",
       "      <td>30</td>\n",
       "      <td>55.4</td>\n",
       "      <td>1.4</td>\n",
       "    </tr>\n",
       "  </tbody>\n",
       "</table>\n",
       "</div>"
      ],
      "text/plain": [
       "  model  year  price transmission  mileage fuelType  tax   mpg  engineSize\n",
       "0    A1  2017  12500       Manual    15735   Petrol  150  55.4         1.4\n",
       "1    A6  2016  16500    Automatic    36203   Diesel   20  64.2         2.0\n",
       "2    A1  2016  11000       Manual    29946   Petrol   30  55.4         1.4\n",
       "3    A4  2017  16800    Automatic    25952   Diesel  145  67.3         2.0\n",
       "4    A3  2019  17300       Manual     1998   Petrol  145  49.6         1.0\n",
       "5    A1  2016  13900    Automatic    32260   Petrol   30  58.9         1.4\n",
       "6    A6  2016  13250    Automatic    76788   Diesel   30  61.4         2.0\n",
       "7    A4  2016  11750       Manual    75185   Diesel   20  70.6         2.0\n",
       "8    A3  2015  10200       Manual    46112   Petrol   20  60.1         1.4\n",
       "9    A1  2016  12000       Manual    22451   Petrol   30  55.4         1.4"
      ]
     },
     "execution_count": 321,
     "metadata": {},
     "output_type": "execute_result"
    }
   ],
   "source": [
    "audi.head(10)"
   ]
  },
  {
   "cell_type": "code",
   "execution_count": 322,
   "metadata": {},
   "outputs": [
    {
     "name": "stdout",
     "output_type": "stream",
     "text": [
      "<class 'pandas.core.frame.DataFrame'>\n",
      "RangeIndex: 10668 entries, 0 to 10667\n",
      "Data columns (total 9 columns):\n",
      " #   Column        Non-Null Count  Dtype  \n",
      "---  ------        --------------  -----  \n",
      " 0   model         10668 non-null  object \n",
      " 1   year          10668 non-null  int64  \n",
      " 2   price         10668 non-null  int64  \n",
      " 3   transmission  10668 non-null  object \n",
      " 4   mileage       10668 non-null  int64  \n",
      " 5   fuelType      10668 non-null  object \n",
      " 6   tax           10668 non-null  int64  \n",
      " 7   mpg           10668 non-null  float64\n",
      " 8   engineSize    10668 non-null  float64\n",
      "dtypes: float64(2), int64(4), object(3)\n",
      "memory usage: 750.2+ KB\n"
     ]
    }
   ],
   "source": [
    "audi.info()"
   ]
  },
  {
   "cell_type": "code",
   "execution_count": 323,
   "metadata": {},
   "outputs": [
    {
     "data": {
      "text/plain": [
       "(10668, 9)"
      ]
     },
     "execution_count": 323,
     "metadata": {},
     "output_type": "execute_result"
    }
   ],
   "source": [
    "audi.shape"
   ]
  },
  {
   "cell_type": "code",
   "execution_count": 324,
   "metadata": {},
   "outputs": [
    {
     "data": {
      "text/html": [
       "<div>\n",
       "<style scoped>\n",
       "    .dataframe tbody tr th:only-of-type {\n",
       "        vertical-align: middle;\n",
       "    }\n",
       "\n",
       "    .dataframe tbody tr th {\n",
       "        vertical-align: top;\n",
       "    }\n",
       "\n",
       "    .dataframe thead th {\n",
       "        text-align: right;\n",
       "    }\n",
       "</style>\n",
       "<table border=\"1\" class=\"dataframe\">\n",
       "  <thead>\n",
       "    <tr style=\"text-align: right;\">\n",
       "      <th></th>\n",
       "      <th>year</th>\n",
       "      <th>price</th>\n",
       "      <th>mileage</th>\n",
       "      <th>tax</th>\n",
       "      <th>mpg</th>\n",
       "      <th>engineSize</th>\n",
       "    </tr>\n",
       "  </thead>\n",
       "  <tbody>\n",
       "    <tr>\n",
       "      <th>count</th>\n",
       "      <td>10668.000000</td>\n",
       "      <td>10668.000000</td>\n",
       "      <td>10668.000000</td>\n",
       "      <td>10668.000000</td>\n",
       "      <td>10668.000000</td>\n",
       "      <td>10668.000000</td>\n",
       "    </tr>\n",
       "    <tr>\n",
       "      <th>mean</th>\n",
       "      <td>2017.100675</td>\n",
       "      <td>22896.685039</td>\n",
       "      <td>24827.244001</td>\n",
       "      <td>126.011436</td>\n",
       "      <td>50.770022</td>\n",
       "      <td>1.930709</td>\n",
       "    </tr>\n",
       "    <tr>\n",
       "      <th>std</th>\n",
       "      <td>2.167494</td>\n",
       "      <td>11714.841888</td>\n",
       "      <td>23505.257205</td>\n",
       "      <td>67.170294</td>\n",
       "      <td>12.949782</td>\n",
       "      <td>0.602957</td>\n",
       "    </tr>\n",
       "    <tr>\n",
       "      <th>min</th>\n",
       "      <td>1997.000000</td>\n",
       "      <td>1490.000000</td>\n",
       "      <td>1.000000</td>\n",
       "      <td>0.000000</td>\n",
       "      <td>18.900000</td>\n",
       "      <td>0.000000</td>\n",
       "    </tr>\n",
       "    <tr>\n",
       "      <th>25%</th>\n",
       "      <td>2016.000000</td>\n",
       "      <td>15130.750000</td>\n",
       "      <td>5968.750000</td>\n",
       "      <td>125.000000</td>\n",
       "      <td>40.900000</td>\n",
       "      <td>1.500000</td>\n",
       "    </tr>\n",
       "    <tr>\n",
       "      <th>50%</th>\n",
       "      <td>2017.000000</td>\n",
       "      <td>20200.000000</td>\n",
       "      <td>19000.000000</td>\n",
       "      <td>145.000000</td>\n",
       "      <td>49.600000</td>\n",
       "      <td>2.000000</td>\n",
       "    </tr>\n",
       "    <tr>\n",
       "      <th>75%</th>\n",
       "      <td>2019.000000</td>\n",
       "      <td>27990.000000</td>\n",
       "      <td>36464.500000</td>\n",
       "      <td>145.000000</td>\n",
       "      <td>58.900000</td>\n",
       "      <td>2.000000</td>\n",
       "    </tr>\n",
       "    <tr>\n",
       "      <th>max</th>\n",
       "      <td>2020.000000</td>\n",
       "      <td>145000.000000</td>\n",
       "      <td>323000.000000</td>\n",
       "      <td>580.000000</td>\n",
       "      <td>188.300000</td>\n",
       "      <td>6.300000</td>\n",
       "    </tr>\n",
       "  </tbody>\n",
       "</table>\n",
       "</div>"
      ],
      "text/plain": [
       "               year          price        mileage           tax           mpg  \\\n",
       "count  10668.000000   10668.000000   10668.000000  10668.000000  10668.000000   \n",
       "mean    2017.100675   22896.685039   24827.244001    126.011436     50.770022   \n",
       "std        2.167494   11714.841888   23505.257205     67.170294     12.949782   \n",
       "min     1997.000000    1490.000000       1.000000      0.000000     18.900000   \n",
       "25%     2016.000000   15130.750000    5968.750000    125.000000     40.900000   \n",
       "50%     2017.000000   20200.000000   19000.000000    145.000000     49.600000   \n",
       "75%     2019.000000   27990.000000   36464.500000    145.000000     58.900000   \n",
       "max     2020.000000  145000.000000  323000.000000    580.000000    188.300000   \n",
       "\n",
       "         engineSize  \n",
       "count  10668.000000  \n",
       "mean       1.930709  \n",
       "std        0.602957  \n",
       "min        0.000000  \n",
       "25%        1.500000  \n",
       "50%        2.000000  \n",
       "75%        2.000000  \n",
       "max        6.300000  "
      ]
     },
     "execution_count": 324,
     "metadata": {},
     "output_type": "execute_result"
    }
   ],
   "source": [
    "audi.describe()"
   ]
  },
  {
   "cell_type": "markdown",
   "metadata": {},
   "source": [
    "## An explanation of each feature\n",
    "* model\t- What is the car model\n",
    "* year - What is the year of manufacture of the vehicle\n",
    "* price\t- What is the price of the car\n",
    "* transmission - Manual, Automatic or Semi-Auto vehicle \n",
    "* mileage - How many miles does the car have\n",
    "* fuelType\t- What type of fuel tank: Petrol or Diesel\n",
    "* tax - Vehicle tax\t\n",
    "* mpg - Average fuel consumption of the vehicle\t\n",
    "* engineSize - Engine volume of the vehicle"
   ]
  },
  {
   "cell_type": "code",
   "execution_count": 325,
   "metadata": {},
   "outputs": [
    {
     "data": {
      "text/plain": [
       "model           0\n",
       "year            0\n",
       "price           0\n",
       "transmission    0\n",
       "mileage         0\n",
       "fuelType        0\n",
       "tax             0\n",
       "mpg             0\n",
       "engineSize      0\n",
       "dtype: int64"
      ]
     },
     "execution_count": 325,
     "metadata": {},
     "output_type": "execute_result"
    }
   ],
   "source": [
    "#cheching if ther if Nulls data to full\n",
    "audi.isnull().sum()"
   ]
  },
  {
   "cell_type": "code",
   "execution_count": 326,
   "metadata": {},
   "outputs": [
    {
     "data": {
      "text/plain": [
       "Text(0.5, 1.0, 'Price Correlation between different fearures')"
      ]
     },
     "execution_count": 326,
     "metadata": {},
     "output_type": "execute_result"
    },
    {
     "data": {
      "image/png": "[encoded data removed]",
      "text/plain": [
       "<Figure size 1080x1008 with 2 Axes>"
      ]
     },
     "metadata": {
      "needs_background": "light"
     },
     "output_type": "display_data"
    }
   ],
   "source": [
    "corr = audi.corr()\n",
    "mask = np.zeros_like(corr)\n",
    "mask[np.tril_indices_from(mask)] = True\n",
    "f, ax = plt.subplots(figsize=(15, 14))\n",
    "sns.heatmap(corr, vmax=1, square=True,annot=True,cmap=\"YlGnBu\" ,mask=mask.T)\n",
    "plt.title('Price Correlation between different fearures')"
   ]
  },
  {
   "cell_type": "code",
   "execution_count": 327,
   "metadata": {},
   "outputs": [
    {
     "data": {
      "text/plain": [
       "[Text(0, 0, ' A1'),\n",
       " Text(0, 0, ' A6'),\n",
       " Text(0, 0, ' A4'),\n",
       " Text(0, 0, ' A3'),\n",
       " Text(0, 0, ' Q3'),\n",
       " Text(0, 0, ' Q5'),\n",
       " Text(0, 0, ' A5'),\n",
       " Text(0, 0, ' S4'),\n",
       " Text(0, 0, ' Q2'),\n",
       " Text(0, 0, ' A7'),\n",
       " Text(0, 0, ' TT'),\n",
       " Text(0, 0, ' Q7'),\n",
       " Text(0, 0, ' RS6'),\n",
       " Text(0, 0, ' RS3'),\n",
       " Text(0, 0, ' A8'),\n",
       " Text(0, 0, ' Q8'),\n",
       " Text(0, 0, ' RS4'),\n",
       " Text(0, 0, ' RS5'),\n",
       " Text(0, 0, ' R8'),\n",
       " Text(0, 0, ' SQ5'),\n",
       " Text(0, 0, ' S8'),\n",
       " Text(0, 0, ' SQ7'),\n",
       " Text(0, 0, ' S3'),\n",
       " Text(0, 0, ' S5'),\n",
       " Text(0, 0, ' A2'),\n",
       " Text(0, 0, ' RS7')]"
      ]
     },
     "execution_count": 327,
     "metadata": {},
     "output_type": "execute_result"
    },
    {
     "data": {
      "image/png": "[encoded data removed]",
      "text/plain": [
       "<Figure size 864x360 with 1 Axes>"
      ]
     },
     "metadata": {
      "needs_background": "light"
     },
     "output_type": "display_data"
    }
   ],
   "source": [
    "\n",
    "plt.figure(figsize=(12,5))\n",
    "bar = sns.barplot(data=audi, x='model', y='price')\n",
    "bar.set_xticklabels(bar.get_xticklabels(), rotation=45)"
   ]
  },
  {
   "cell_type": "markdown",
   "metadata": {},
   "source": [
    "#### We can see that significantly the highest price is of R8  and the lowest is of A2"
   ]
  },
  {
   "cell_type": "code",
   "execution_count": 328,
   "metadata": {},
   "outputs": [
    {
     "data": {
      "text/plain": [
       "[Text(0.5, 1.0, 'Year vs. Price')]"
      ]
     },
     "execution_count": 328,
     "metadata": {},
     "output_type": "execute_result"
    },
    {
     "data": {
      "image/png": "[encoded data removed]",
      "text/plain": [
       "<Figure size 432x288 with 1 Axes>"
      ]
     },
     "metadata": {
      "needs_background": "light"
     },
     "output_type": "display_data"
    }
   ],
   "source": [
    "# Audi : Year vs. Price\n",
    "line = sns.lineplot(data=audi, x='year', y='price')\n",
    "line.set(xlim=(2000,2020))\n",
    "line.set_xticks(range(2000,2021,5))\n",
    "line.set(title='Year vs. Price')"
   ]
  },
  {
   "cell_type": "markdown",
   "metadata": {},
   "source": [
    "#### We can see that the newer the vehicle, the higher the price"
   ]
  },
  {
   "cell_type": "code",
   "execution_count": 329,
   "metadata": {},
   "outputs": [
    {
     "data": {
      "image/png": "[encoded data removed]",
      "text/plain": [
       "<Figure size 432x288 with 1 Axes>"
      ]
     },
     "metadata": {
      "needs_background": "light"
     },
     "output_type": "display_data"
    }
   ],
   "source": [
    "sns.barplot(data=audi, x='transmission', y='price')\n",
    "plt.savefig('audi_trans_price.png')"
   ]
  },
  {
   "cell_type": "markdown",
   "metadata": {},
   "source": [
    "#### The prices of manual vehicles are significantly cheaper than the price of automatic or semi-automatic vehicles"
   ]
  },
  {
   "cell_type": "code",
   "execution_count": 330,
   "metadata": {},
   "outputs": [
    {
     "data": {
      "text/plain": [
       "Text(0.5, 1.0, 'Mileage vs. Price')"
      ]
     },
     "execution_count": 330,
     "metadata": {},
     "output_type": "execute_result"
    },
    {
     "data": {
      "image/png": "[encoded data removed]",
      "text/plain": [
       "<Figure size 432x288 with 1 Axes>"
      ]
     },
     "metadata": {
      "needs_background": "light"
     },
     "output_type": "display_data"
    }
   ],
   "source": [
    "# Mileage vs. Price\n",
    "sns.scatterplot(data=audi, x='mileage', y='price', alpha=0.5)\n",
    "plt.savefig('audi_mile_price.png')\n",
    "ax = plt.gca()\n",
    "ax.set_title(\"Mileage vs. Price\")"
   ]
  },
  {
   "cell_type": "markdown",
   "metadata": {},
   "source": [
    "#### Downward trend- The higher the kilometers, the lower the price - you can see the opposite here"
   ]
  },
  {
   "cell_type": "code",
   "execution_count": 331,
   "metadata": {},
   "outputs": [
    {
     "data": {
      "text/plain": [
       "Text(0.5, 1.0, 'Mileage vs. Price')"
      ]
     },
     "execution_count": 331,
     "metadata": {},
     "output_type": "execute_result"
    },
    {
     "data": {
      "image/png": "[encoded data removed]",
      "text/plain": [
       "<Figure size 432x288 with 1 Axes>"
      ]
     },
     "metadata": {
      "needs_background": "light"
     },
     "output_type": "display_data"
    }
   ],
   "source": [
    "#now we will see it clearly: Mileage vs. Price\n",
    "(sns.regplot(data=audi, x='mileage', y='price', scatter=False)).set(ylim=(0,150000))\n",
    "plt.savefig('audi_mile_price_reg.png')\n",
    "ax = plt.gca()\n",
    "ax.set_title(\"Mileage vs. Price\")"
   ]
  },
  {
   "cell_type": "code",
   "execution_count": 332,
   "metadata": {},
   "outputs": [
    {
     "data": {
      "text/plain": [
       "Text(0.5, 1.0, 'MPG vs. Price')"
      ]
     },
     "execution_count": 332,
     "metadata": {},
     "output_type": "execute_result"
    },
    {
     "data": {
      "image/png": "[encoded data removed]",
      "text/plain": [
       "<Figure size 432x288 with 1 Axes>"
      ]
     },
     "metadata": {
      "needs_background": "light"
     },
     "output_type": "display_data"
    }
   ],
   "source": [
    "# MPG vs. Price\n",
    "sns.scatterplot(data=audi, x='mpg', y='price', alpha=0.5)\n",
    "ax = plt.gca()\n",
    "ax.set_title(\"MPG vs. Price\")"
   ]
  },
  {
   "cell_type": "markdown",
   "metadata": {},
   "source": [
    "#### Downward trend- The higher the mpg, the lower the price - you can see the opposite here\n",
    "(MPG= miles per gallon, and is used to show how far your car is able to travel for every gallon )"
   ]
  },
  {
   "cell_type": "code",
   "execution_count": 333,
   "metadata": {},
   "outputs": [
    {
     "data": {
      "image/png": "[encoded data removed]",
      "text/plain": [
       "<Figure size 1008x576 with 1 Axes>"
      ]
     },
     "metadata": {
      "needs_background": "light"
     },
     "output_type": "display_data"
    }
   ],
   "source": [
    "plt.figure(figsize=(14,8))\n",
    "sns.barplot(data=audi, x='tax', y='price',)\n",
    "plt.savefig('audi_tax_price.png')"
   ]
  },
  {
   "cell_type": "markdown",
   "metadata": {},
   "source": [
    "### We can see that  there is no coreletion between the tax to the price"
   ]
  },
  {
   "cell_type": "code",
   "execution_count": 334,
   "metadata": {},
   "outputs": [
    {
     "data": {
      "image/png": "[encoded data removed]",
      "text/plain": [
       "<Figure size 432x288 with 1 Axes>"
      ]
     },
     "metadata": {
      "needs_background": "light"
     },
     "output_type": "display_data"
    }
   ],
   "source": [
    "# Fuel Type vs. Price\n",
    "sns.barplot(data=audi, x='fuelType', y='price')\n",
    "plt.savefig('audi_fuel_price.png')"
   ]
  },
  {
   "cell_type": "markdown",
   "metadata": {},
   "source": [
    "# Modeling"
   ]
  },
  {
   "cell_type": "code",
   "execution_count": 278,
   "metadata": {},
   "outputs": [],
   "source": [
    "from sklearn.model_selection import train_test_split\n",
    "from sklearn.preprocessing import LabelEncoder\n",
    "from sklearn.linear_model import LinearRegression\n",
    "from sklearn.model_selection import train_test_split\n",
    "from sklearn.linear_model import LinearRegression\n",
    "from sklearn.neighbors import KNeighborsRegressor"
   ]
  },
  {
   "cell_type": "markdown",
   "metadata": {},
   "source": [
    "### Preposesing"
   ]
  },
  {
   "cell_type": "code",
   "execution_count": 279,
   "metadata": {},
   "outputs": [],
   "source": [
    "audi_target = audi.price\n",
    "audi_data = audi.drop(['price'], axis=1)#Price is the purpose of the prediction\n",
    "audi_data = audi.drop(['tax'], axis=1) #We have already seen that there is a low correlation between the tax and the price\n",
    "X_train, X_test, y_train, y_test = train_test_split(audi_data, audi_target,train_size=0.8, test_size=0.2,random_state=0)"
   ]
  },
  {
   "cell_type": "code",
   "execution_count": 308,
   "metadata": {},
   "outputs": [
    {
     "name": "stdout",
     "output_type": "stream",
     "text": [
      "['model', 'transmission', 'fuelType']\n"
     ]
    }
   ],
   "source": [
    "#Checking which columns have non-numeric data\n",
    "object_cols = [col for col in audi_data.columns if audi_data[col].dtype == 'object']\n",
    "print(object_cols)"
   ]
  },
  {
   "cell_type": "code",
   "execution_count": 281,
   "metadata": {},
   "outputs": [
    {
     "name": "stderr",
     "output_type": "stream",
     "text": [
      "<ipython-input-281-b38232f7e549>:4: SettingWithCopyWarning: \n",
      "A value is trying to be set on a copy of a slice from a DataFrame.\n",
      "Try using .loc[row_indexer,col_indexer] = value instead\n",
      "\n",
      "See the caveats in the documentation: https://pandas.pydata.org/pandas-docs/stable/user_guide/indexing.html#returning-a-view-versus-a-copy\n",
      "  X_train['model'] = label_encoder.fit_transform(X_train['model']);\n",
      "<ipython-input-281-b38232f7e549>:6: SettingWithCopyWarning: \n",
      "A value is trying to be set on a copy of a slice from a DataFrame.\n",
      "Try using .loc[row_indexer,col_indexer] = value instead\n",
      "\n",
      "See the caveats in the documentation: https://pandas.pydata.org/pandas-docs/stable/user_guide/indexing.html#returning-a-view-versus-a-copy\n",
      "  X_test['model'] = label_encoder.transform(X_test['model']);\n",
      "<ipython-input-281-b38232f7e549>:9: SettingWithCopyWarning: \n",
      "A value is trying to be set on a copy of a slice from a DataFrame.\n",
      "Try using .loc[row_indexer,col_indexer] = value instead\n",
      "\n",
      "See the caveats in the documentation: https://pandas.pydata.org/pandas-docs/stable/user_guide/indexing.html#returning-a-view-versus-a-copy\n",
      "  X_train['transmission'] = label_encoder.fit_transform(X_train['transmission']);\n",
      "<ipython-input-281-b38232f7e549>:10: SettingWithCopyWarning: \n",
      "A value is trying to be set on a copy of a slice from a DataFrame.\n",
      "Try using .loc[row_indexer,col_indexer] = value instead\n",
      "\n",
      "See the caveats in the documentation: https://pandas.pydata.org/pandas-docs/stable/user_guide/indexing.html#returning-a-view-versus-a-copy\n",
      "  X_test['transmission'] = label_encoder.transform(X_test['transmission']);\n",
      "<ipython-input-281-b38232f7e549>:12: SettingWithCopyWarning: \n",
      "A value is trying to be set on a copy of a slice from a DataFrame.\n",
      "Try using .loc[row_indexer,col_indexer] = value instead\n",
      "\n",
      "See the caveats in the documentation: https://pandas.pydata.org/pandas-docs/stable/user_guide/indexing.html#returning-a-view-versus-a-copy\n",
      "  X_train['fuelType'] = label_encoder.fit_transform(X_train['fuelType']);\n",
      "<ipython-input-281-b38232f7e549>:13: SettingWithCopyWarning: \n",
      "A value is trying to be set on a copy of a slice from a DataFrame.\n",
      "Try using .loc[row_indexer,col_indexer] = value instead\n",
      "\n",
      "See the caveats in the documentation: https://pandas.pydata.org/pandas-docs/stable/user_guide/indexing.html#returning-a-view-versus-a-copy\n",
      "  X_test['fuelType'] = label_encoder.transform(X_test['fuelType']);\n"
     ]
    }
   ],
   "source": [
    "from sklearn.preprocessing import LabelEncoder #converting each value in a column to a number\n",
    "label_encoder = LabelEncoder();\n",
    "#Training encoder for the diffrent car models (and transform to numeric value)\n",
    "X_train['model'] = label_encoder.fit_transform(X_train['model']);\n",
    "#Encoding the car models in the test data also\n",
    "X_test['model'] = label_encoder.transform(X_test['model']);\n",
    "\n",
    "#Do the same for transmission and fuelType\n",
    "X_train['transmission'] = label_encoder.fit_transform(X_train['transmission']);\n",
    "X_test['transmission'] = label_encoder.transform(X_test['transmission']);\n",
    "\n",
    "X_train['fuelType'] = label_encoder.fit_transform(X_train['fuelType']);\n",
    "X_test['fuelType'] = label_encoder.transform(X_test['fuelType']);\n"
   ]
  },
  {
   "cell_type": "code",
   "execution_count": 282,
   "metadata": {},
   "outputs": [
    {
     "data": {
      "text/html": [
       "<div>\n",
       "<style scoped>\n",
       "    .dataframe tbody tr th:only-of-type {\n",
       "        vertical-align: middle;\n",
       "    }\n",
       "\n",
       "    .dataframe tbody tr th {\n",
       "        vertical-align: top;\n",
       "    }\n",
       "\n",
       "    .dataframe thead th {\n",
       "        text-align: right;\n",
       "    }\n",
       "</style>\n",
       "<table border=\"1\" class=\"dataframe\">\n",
       "  <thead>\n",
       "    <tr style=\"text-align: right;\">\n",
       "      <th></th>\n",
       "      <th>model</th>\n",
       "      <th>year</th>\n",
       "      <th>price</th>\n",
       "      <th>transmission</th>\n",
       "      <th>mileage</th>\n",
       "      <th>fuelType</th>\n",
       "      <th>mpg</th>\n",
       "      <th>engineSize</th>\n",
       "    </tr>\n",
       "  </thead>\n",
       "  <tbody>\n",
       "    <tr>\n",
       "      <th>4929</th>\n",
       "      <td>0</td>\n",
       "      <td>2017</td>\n",
       "      <td>14490</td>\n",
       "      <td>1</td>\n",
       "      <td>19229</td>\n",
       "      <td>2</td>\n",
       "      <td>56.5</td>\n",
       "      <td>1.4</td>\n",
       "    </tr>\n",
       "    <tr>\n",
       "      <th>9420</th>\n",
       "      <td>8</td>\n",
       "      <td>2019</td>\n",
       "      <td>28490</td>\n",
       "      <td>0</td>\n",
       "      <td>6826</td>\n",
       "      <td>2</td>\n",
       "      <td>33.2</td>\n",
       "      <td>2.0</td>\n",
       "    </tr>\n",
       "    <tr>\n",
       "      <th>8756</th>\n",
       "      <td>0</td>\n",
       "      <td>2014</td>\n",
       "      <td>11400</td>\n",
       "      <td>2</td>\n",
       "      <td>18954</td>\n",
       "      <td>2</td>\n",
       "      <td>53.3</td>\n",
       "      <td>1.4</td>\n",
       "    </tr>\n",
       "    <tr>\n",
       "      <th>9758</th>\n",
       "      <td>25</td>\n",
       "      <td>2014</td>\n",
       "      <td>19995</td>\n",
       "      <td>1</td>\n",
       "      <td>27400</td>\n",
       "      <td>2</td>\n",
       "      <td>35.8</td>\n",
       "      <td>2.0</td>\n",
       "    </tr>\n",
       "    <tr>\n",
       "      <th>9341</th>\n",
       "      <td>2</td>\n",
       "      <td>2019</td>\n",
       "      <td>25490</td>\n",
       "      <td>0</td>\n",
       "      <td>750</td>\n",
       "      <td>0</td>\n",
       "      <td>52.3</td>\n",
       "      <td>1.6</td>\n",
       "    </tr>\n",
       "  </tbody>\n",
       "</table>\n",
       "</div>"
      ],
      "text/plain": [
       "      model  year  price  transmission  mileage  fuelType   mpg  engineSize\n",
       "4929      0  2017  14490             1    19229         2  56.5         1.4\n",
       "9420      8  2019  28490             0     6826         2  33.2         2.0\n",
       "8756      0  2014  11400             2    18954         2  53.3         1.4\n",
       "9758     25  2014  19995             1    27400         2  35.8         2.0\n",
       "9341      2  2019  25490             0      750         0  52.3         1.6"
      ]
     },
     "execution_count": 282,
     "metadata": {},
     "output_type": "execute_result"
    }
   ],
   "source": [
    "X_train.head()"
   ]
  },
  {
   "cell_type": "code",
   "execution_count": 283,
   "metadata": {},
   "outputs": [
    {
     "data": {
      "text/html": [
       "<div>\n",
       "<style scoped>\n",
       "    .dataframe tbody tr th:only-of-type {\n",
       "        vertical-align: middle;\n",
       "    }\n",
       "\n",
       "    .dataframe tbody tr th {\n",
       "        vertical-align: top;\n",
       "    }\n",
       "\n",
       "    .dataframe thead th {\n",
       "        text-align: right;\n",
       "    }\n",
       "</style>\n",
       "<table border=\"1\" class=\"dataframe\">\n",
       "  <thead>\n",
       "    <tr style=\"text-align: right;\">\n",
       "      <th></th>\n",
       "      <th>model</th>\n",
       "      <th>year</th>\n",
       "      <th>price</th>\n",
       "      <th>transmission</th>\n",
       "      <th>mileage</th>\n",
       "      <th>fuelType</th>\n",
       "      <th>mpg</th>\n",
       "      <th>engineSize</th>\n",
       "    </tr>\n",
       "  </thead>\n",
       "  <tbody>\n",
       "    <tr>\n",
       "      <th>2049</th>\n",
       "      <td>3</td>\n",
       "      <td>2015</td>\n",
       "      <td>14998</td>\n",
       "      <td>1</td>\n",
       "      <td>54654</td>\n",
       "      <td>0</td>\n",
       "      <td>55.4</td>\n",
       "      <td>2.0</td>\n",
       "    </tr>\n",
       "    <tr>\n",
       "      <th>5609</th>\n",
       "      <td>3</td>\n",
       "      <td>2019</td>\n",
       "      <td>21950</td>\n",
       "      <td>1</td>\n",
       "      <td>7975</td>\n",
       "      <td>2</td>\n",
       "      <td>39.2</td>\n",
       "      <td>2.0</td>\n",
       "    </tr>\n",
       "    <tr>\n",
       "      <th>7638</th>\n",
       "      <td>4</td>\n",
       "      <td>2019</td>\n",
       "      <td>28990</td>\n",
       "      <td>0</td>\n",
       "      <td>3731</td>\n",
       "      <td>2</td>\n",
       "      <td>39.8</td>\n",
       "      <td>2.0</td>\n",
       "    </tr>\n",
       "    <tr>\n",
       "      <th>1603</th>\n",
       "      <td>2</td>\n",
       "      <td>2018</td>\n",
       "      <td>25489</td>\n",
       "      <td>2</td>\n",
       "      <td>18478</td>\n",
       "      <td>2</td>\n",
       "      <td>43.5</td>\n",
       "      <td>2.0</td>\n",
       "    </tr>\n",
       "    <tr>\n",
       "      <th>5953</th>\n",
       "      <td>2</td>\n",
       "      <td>2019</td>\n",
       "      <td>30950</td>\n",
       "      <td>2</td>\n",
       "      <td>6207</td>\n",
       "      <td>2</td>\n",
       "      <td>34.5</td>\n",
       "      <td>2.0</td>\n",
       "    </tr>\n",
       "  </tbody>\n",
       "</table>\n",
       "</div>"
      ],
      "text/plain": [
       "      model  year  price  transmission  mileage  fuelType   mpg  engineSize\n",
       "2049      3  2015  14998             1    54654         0  55.4         2.0\n",
       "5609      3  2019  21950             1     7975         2  39.2         2.0\n",
       "7638      4  2019  28990             0     3731         2  39.8         2.0\n",
       "1603      2  2018  25489             2    18478         2  43.5         2.0\n",
       "5953      2  2019  30950             2     6207         2  34.5         2.0"
      ]
     },
     "execution_count": 283,
     "metadata": {},
     "output_type": "execute_result"
    }
   ],
   "source": [
    "X_test.head()"
   ]
  },
  {
   "cell_type": "code",
   "execution_count": 284,
   "metadata": {},
   "outputs": [
    {
     "name": "stderr",
     "output_type": "stream",
     "text": [
      "<ipython-input-284-69656501ded0>:7: SettingWithCopyWarning: \n",
      "A value is trying to be set on a copy of a slice from a DataFrame.\n",
      "Try using .loc[row_indexer,col_indexer] = value instead\n",
      "\n",
      "See the caveats in the documentation: https://pandas.pydata.org/pandas-docs/stable/user_guide/indexing.html#returning-a-view-versus-a-copy\n",
      "  X_train[col_names] = features\n",
      "C:\\ProgramData\\Anaconda3\\lib\\site-packages\\pandas\\core\\indexing.py:966: SettingWithCopyWarning: \n",
      "A value is trying to be set on a copy of a slice from a DataFrame.\n",
      "Try using .loc[row_indexer,col_indexer] = value instead\n",
      "\n",
      "See the caveats in the documentation: https://pandas.pydata.org/pandas-docs/stable/user_guide/indexing.html#returning-a-view-versus-a-copy\n",
      "  self.obj[item] = s\n",
      "<ipython-input-284-69656501ded0>:11: SettingWithCopyWarning: \n",
      "A value is trying to be set on a copy of a slice from a DataFrame.\n",
      "Try using .loc[row_indexer,col_indexer] = value instead\n",
      "\n",
      "See the caveats in the documentation: https://pandas.pydata.org/pandas-docs/stable/user_guide/indexing.html#returning-a-view-versus-a-copy\n",
      "  X_test[col_names] = features2\n",
      "C:\\ProgramData\\Anaconda3\\lib\\site-packages\\pandas\\core\\indexing.py:966: SettingWithCopyWarning: \n",
      "A value is trying to be set on a copy of a slice from a DataFrame.\n",
      "Try using .loc[row_indexer,col_indexer] = value instead\n",
      "\n",
      "See the caveats in the documentation: https://pandas.pydata.org/pandas-docs/stable/user_guide/indexing.html#returning-a-view-versus-a-copy\n",
      "  self.obj[item] = s\n"
     ]
    }
   ],
   "source": [
    "from sklearn.preprocessing import StandardScaler\n",
    "#(value-mean)/(standard diviation)\n",
    "col_names =X_train.columns\n",
    "features = X_train[col_names]\n",
    "scaler = StandardScaler().fit(features.values)\n",
    "features = scaler.transform(features.values)\n",
    "X_train[col_names] = features\n",
    "\n",
    "features2=X_test[col_names]\n",
    "features2 = scaler.transform(features2.values)\n",
    "X_test[col_names] = features2\n"
   ]
  },
  {
   "cell_type": "code",
   "execution_count": 285,
   "metadata": {},
   "outputs": [
    {
     "data": {
      "text/html": [
       "<div>\n",
       "<style scoped>\n",
       "    .dataframe tbody tr th:only-of-type {\n",
       "        vertical-align: middle;\n",
       "    }\n",
       "\n",
       "    .dataframe tbody tr th {\n",
       "        vertical-align: top;\n",
       "    }\n",
       "\n",
       "    .dataframe thead th {\n",
       "        text-align: right;\n",
       "    }\n",
       "</style>\n",
       "<table border=\"1\" class=\"dataframe\">\n",
       "  <thead>\n",
       "    <tr style=\"text-align: right;\">\n",
       "      <th></th>\n",
       "      <th>model</th>\n",
       "      <th>year</th>\n",
       "      <th>price</th>\n",
       "      <th>transmission</th>\n",
       "      <th>mileage</th>\n",
       "      <th>fuelType</th>\n",
       "      <th>mpg</th>\n",
       "      <th>engineSize</th>\n",
       "    </tr>\n",
       "  </thead>\n",
       "  <tbody>\n",
       "    <tr>\n",
       "      <th>2049</th>\n",
       "      <td>-0.543011</td>\n",
       "      <td>-0.971095</td>\n",
       "      <td>-0.672334</td>\n",
       "      <td>-0.111185</td>\n",
       "      <td>1.270029</td>\n",
       "      <td>-0.953787</td>\n",
       "      <td>0.349775</td>\n",
       "      <td>0.118336</td>\n",
       "    </tr>\n",
       "    <tr>\n",
       "      <th>5609</th>\n",
       "      <td>-0.543011</td>\n",
       "      <td>0.876486</td>\n",
       "      <td>-0.078761</td>\n",
       "      <td>-0.111185</td>\n",
       "      <td>-0.713568</td>\n",
       "      <td>1.051292</td>\n",
       "      <td>-0.886843</td>\n",
       "      <td>0.118336</td>\n",
       "    </tr>\n",
       "    <tr>\n",
       "      <th>7638</th>\n",
       "      <td>-0.348123</td>\n",
       "      <td>0.876486</td>\n",
       "      <td>0.522325</td>\n",
       "      <td>-1.421755</td>\n",
       "      <td>-0.893914</td>\n",
       "      <td>1.051292</td>\n",
       "      <td>-0.841042</td>\n",
       "      <td>0.118336</td>\n",
       "    </tr>\n",
       "    <tr>\n",
       "      <th>1603</th>\n",
       "      <td>-0.737900</td>\n",
       "      <td>0.414591</td>\n",
       "      <td>0.223404</td>\n",
       "      <td>1.199385</td>\n",
       "      <td>-0.267249</td>\n",
       "      <td>1.051292</td>\n",
       "      <td>-0.558605</td>\n",
       "      <td>0.118336</td>\n",
       "    </tr>\n",
       "    <tr>\n",
       "      <th>5953</th>\n",
       "      <td>-0.737900</td>\n",
       "      <td>0.876486</td>\n",
       "      <td>0.689673</td>\n",
       "      <td>1.199385</td>\n",
       "      <td>-0.788698</td>\n",
       "      <td>1.051292</td>\n",
       "      <td>-1.245615</td>\n",
       "      <td>0.118336</td>\n",
       "    </tr>\n",
       "  </tbody>\n",
       "</table>\n",
       "</div>"
      ],
      "text/plain": [
       "         model      year     price  transmission   mileage  fuelType  \\\n",
       "2049 -0.543011 -0.971095 -0.672334     -0.111185  1.270029 -0.953787   \n",
       "5609 -0.543011  0.876486 -0.078761     -0.111185 -0.713568  1.051292   \n",
       "7638 -0.348123  0.876486  0.522325     -1.421755 -0.893914  1.051292   \n",
       "1603 -0.737900  0.414591  0.223404      1.199385 -0.267249  1.051292   \n",
       "5953 -0.737900  0.876486  0.689673      1.199385 -0.788698  1.051292   \n",
       "\n",
       "           mpg  engineSize  \n",
       "2049  0.349775    0.118336  \n",
       "5609 -0.886843    0.118336  \n",
       "7638 -0.841042    0.118336  \n",
       "1603 -0.558605    0.118336  \n",
       "5953 -1.245615    0.118336  "
      ]
     },
     "execution_count": 285,
     "metadata": {},
     "output_type": "execute_result"
    }
   ],
   "source": [
    "X_test.head()"
   ]
  },
  {
   "cell_type": "markdown",
   "metadata": {},
   "source": [
    "### Model selection\n",
    "Our goal is to train the model so that it can predict the price of an Audi car,\n",
    "For this we will use two models: KNN regressor and Linear-Regression."
   ]
  },
  {
   "cell_type": "markdown",
   "metadata": {},
   "source": [
    "#### Linear Regression"
   ]
  },
  {
   "cell_type": "code",
   "execution_count": 286,
   "metadata": {},
   "outputs": [
    {
     "name": "stdout",
     "output_type": "stream",
     "text": [
      "Train Score:  1.0\n",
      "Test Score:  1.0\n"
     ]
    }
   ],
   "source": [
    "lr = LinearRegression()\n",
    "lr.fit(X_train, y_train)\n",
    "print(\"Train Score: \", lr.score(X_train, y_train))\n",
    "print(\"Test Score: \", lr.score(X_test, y_test))"
   ]
  },
  {
   "cell_type": "markdown",
   "metadata": {},
   "source": [
    "### We can see that this model is very successful and has 100% success!"
   ]
  },
  {
   "cell_type": "markdown",
   "metadata": {},
   "source": [
    "#### KNN"
   ]
  },
  {
   "cell_type": "code",
   "execution_count": 287,
   "metadata": {},
   "outputs": [
    {
     "name": "stdout",
     "output_type": "stream",
     "text": [
      "[14396.6 22201.6 28937.  ... 46201.4 30766.   8739.4]\n",
      "R-squared test score: 0.987\n",
      "R-squared train score: 0.992\n"
     ]
    }
   ],
   "source": [
    "knnreg = KNeighborsRegressor(n_neighbors = 5).fit(X_train, y_train)\n",
    "print(knnreg.predict(X_test))\n",
    "print('R-squared test score: {:.3f}'\n",
    "     .format(knnreg.score(X_test, y_test)))\n",
    "print('R-squared train score: {:.3f}'\n",
    "     .format(knnreg.score(X_train, y_train)))"
   ]
  },
  {
   "cell_type": "markdown",
   "metadata": {},
   "source": [
    "### We can see that also this model is very successful and has 98% success"
   ]
  },
  {
   "cell_type": "code",
   "execution_count": 317,
   "metadata": {},
   "outputs": [
    {
     "data": {
      "text/plain": [
       "[<matplotlib.lines.Line2D at 0x1bde62fb580>]"
      ]
     },
     "execution_count": 317,
     "metadata": {},
     "output_type": "execute_result"
    },
    {
     "data": {
      "image/png": "[encoded data removed]",
      "text/plain": [
       "<Figure size 720x360 with 1 Axes>"
      ]
     },
     "metadata": {
      "needs_background": "light"
     },
     "output_type": "display_data"
    }
   ],
   "source": [
    "#Optimization test for change in neighbors\n",
    "neighbors=[1,3,5,15,30]\n",
    "train_scores=[0.0,0.0,0.0,0.0,0.0]\n",
    "test_scores=[0.0,0.0,0.0,0.0,0.0]\n",
    "for k in range(1,6):\n",
    "    knnreg = KNeighborsRegressor(n_neighbors=neighbors[k-1]).fit(X_train, y_train)   \n",
    "    test_scores[k-1]=knnreg.score(X_test, y_test)\n",
    "plt.figure(figsize=(10,5))\n",
    "plt.plot(neighbors,test_scores)"
   ]
  },
  {
   "cell_type": "markdown",
   "metadata": {},
   "source": [
    "#### It can be seen that the model well predicts vehicle prices, The number of neighbors that gives the best results is between K=2 to K=5. A straight line can be seen in the graph in this range."
   ]
  }
 ],
 "metadata": {
  "kernelspec": {
   "display_name": "Python 3",
   "language": "python",
   "name": "python3"
  },
  "language_info": {
   "codemirror_mode": {
    "name": "ipython",
    "version": 3
   },
   "file_extension": ".py",
   "mimetype": "text/x-python",
   "name": "python",
   "nbconvert_exporter": "python",
   "pygments_lexer": "ipython3",
   "version": "3.8.3"
  }
 },
 "nbformat": 4,
 "nbformat_minor": 4
}
